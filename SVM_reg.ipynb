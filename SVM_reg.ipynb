{
 "cells": [
  {
   "cell_type": "code",
   "execution_count": 2,
   "metadata": {},
   "outputs": [],
   "source": [
    "import pandas as pd\n",
    "import numpy as np\n",
    "import matplotlib.pyplot as plt\n",
    "import time"
   ]
  },
  {
   "cell_type": "markdown",
   "metadata": {},
   "source": [
    "### Import des données"
   ]
  },
  {
   "cell_type": "code",
   "execution_count": 3,
   "metadata": {},
   "outputs": [
    {
     "data": {
      "text/html": [
       "<div>\n",
       "<style scoped>\n",
       "    .dataframe tbody tr th:only-of-type {\n",
       "        vertical-align: middle;\n",
       "    }\n",
       "\n",
       "    .dataframe tbody tr th {\n",
       "        vertical-align: top;\n",
       "    }\n",
       "\n",
       "    .dataframe thead th {\n",
       "        text-align: right;\n",
       "    }\n",
       "</style>\n",
       "<table border=\"1\" class=\"dataframe\">\n",
       "  <thead>\n",
       "    <tr style=\"text-align: right;\">\n",
       "      <th></th>\n",
       "      <th>maxO3</th>\n",
       "      <th>T6</th>\n",
       "      <th>T9</th>\n",
       "      <th>T12</th>\n",
       "      <th>T15</th>\n",
       "      <th>T18</th>\n",
       "      <th>Ne6</th>\n",
       "      <th>Ne9</th>\n",
       "      <th>Ne12</th>\n",
       "      <th>Ne15</th>\n",
       "      <th>...</th>\n",
       "      <th>Vvit6</th>\n",
       "      <th>Vdir9</th>\n",
       "      <th>Vvit9</th>\n",
       "      <th>Vdir12</th>\n",
       "      <th>Vvit12</th>\n",
       "      <th>Vdir15</th>\n",
       "      <th>Vvit15</th>\n",
       "      <th>Vdir18</th>\n",
       "      <th>Vvit18</th>\n",
       "      <th>Vx</th>\n",
       "    </tr>\n",
       "  </thead>\n",
       "  <tbody>\n",
       "    <tr>\n",
       "      <th>19950401</th>\n",
       "      <td>47.6</td>\n",
       "      <td>10.1</td>\n",
       "      <td>11.6</td>\n",
       "      <td>13.3</td>\n",
       "      <td>13.6</td>\n",
       "      <td>12.2</td>\n",
       "      <td>8.0</td>\n",
       "      <td>8.0</td>\n",
       "      <td>8.0</td>\n",
       "      <td>8.0</td>\n",
       "      <td>...</td>\n",
       "      <td>2.0</td>\n",
       "      <td>290.0</td>\n",
       "      <td>4.0</td>\n",
       "      <td>300.0</td>\n",
       "      <td>4.0</td>\n",
       "      <td>340.0</td>\n",
       "      <td>4.0</td>\n",
       "      <td>20.0</td>\n",
       "      <td>4.0</td>\n",
       "      <td>-3.4641</td>\n",
       "    </tr>\n",
       "    <tr>\n",
       "      <th>19950402</th>\n",
       "      <td>56.2</td>\n",
       "      <td>9.5</td>\n",
       "      <td>9.4</td>\n",
       "      <td>13.8</td>\n",
       "      <td>17.4</td>\n",
       "      <td>16.3</td>\n",
       "      <td>8.0</td>\n",
       "      <td>8.0</td>\n",
       "      <td>7.0</td>\n",
       "      <td>0.0</td>\n",
       "      <td>...</td>\n",
       "      <td>2.0</td>\n",
       "      <td>160.0</td>\n",
       "      <td>2.0</td>\n",
       "      <td>180.0</td>\n",
       "      <td>3.0</td>\n",
       "      <td>110.0</td>\n",
       "      <td>1.0</td>\n",
       "      <td>350.0</td>\n",
       "      <td>2.0</td>\n",
       "      <td>0.0000</td>\n",
       "    </tr>\n",
       "    <tr>\n",
       "      <th>19950403</th>\n",
       "      <td>61.8</td>\n",
       "      <td>3.6</td>\n",
       "      <td>8.0</td>\n",
       "      <td>16.8</td>\n",
       "      <td>21.5</td>\n",
       "      <td>20.2</td>\n",
       "      <td>4.0</td>\n",
       "      <td>5.0</td>\n",
       "      <td>2.0</td>\n",
       "      <td>2.0</td>\n",
       "      <td>...</td>\n",
       "      <td>2.0</td>\n",
       "      <td>20.0</td>\n",
       "      <td>2.0</td>\n",
       "      <td>340.0</td>\n",
       "      <td>1.0</td>\n",
       "      <td>170.0</td>\n",
       "      <td>2.0</td>\n",
       "      <td>170.0</td>\n",
       "      <td>3.0</td>\n",
       "      <td>-0.3420</td>\n",
       "    </tr>\n",
       "    <tr>\n",
       "      <th>19950404</th>\n",
       "      <td>50.8</td>\n",
       "      <td>9.5</td>\n",
       "      <td>10.5</td>\n",
       "      <td>11.4</td>\n",
       "      <td>12.2</td>\n",
       "      <td>11.4</td>\n",
       "      <td>8.0</td>\n",
       "      <td>7.0</td>\n",
       "      <td>7.0</td>\n",
       "      <td>7.0</td>\n",
       "      <td>...</td>\n",
       "      <td>3.0</td>\n",
       "      <td>10.0</td>\n",
       "      <td>4.0</td>\n",
       "      <td>350.0</td>\n",
       "      <td>3.0</td>\n",
       "      <td>350.0</td>\n",
       "      <td>3.0</td>\n",
       "      <td>350.0</td>\n",
       "      <td>4.0</td>\n",
       "      <td>-0.5209</td>\n",
       "    </tr>\n",
       "    <tr>\n",
       "      <th>19950405</th>\n",
       "      <td>59.8</td>\n",
       "      <td>9.8</td>\n",
       "      <td>10.8</td>\n",
       "      <td>13.8</td>\n",
       "      <td>14.3</td>\n",
       "      <td>13.3</td>\n",
       "      <td>8.0</td>\n",
       "      <td>7.0</td>\n",
       "      <td>8.0</td>\n",
       "      <td>8.0</td>\n",
       "      <td>...</td>\n",
       "      <td>2.0</td>\n",
       "      <td>340.0</td>\n",
       "      <td>2.0</td>\n",
       "      <td>280.0</td>\n",
       "      <td>1.0</td>\n",
       "      <td>320.0</td>\n",
       "      <td>3.0</td>\n",
       "      <td>350.0</td>\n",
       "      <td>4.0</td>\n",
       "      <td>-0.9848</td>\n",
       "    </tr>\n",
       "  </tbody>\n",
       "</table>\n",
       "<p>5 rows × 22 columns</p>\n",
       "</div>"
      ],
      "text/plain": [
       "          maxO3    T6    T9   T12   T15   T18  Ne6  Ne9  Ne12  Ne15  ...  \\\n",
       "19950401   47.6  10.1  11.6  13.3  13.6  12.2  8.0  8.0   8.0   8.0  ...   \n",
       "19950402   56.2   9.5   9.4  13.8  17.4  16.3  8.0  8.0   7.0   0.0  ...   \n",
       "19950403   61.8   3.6   8.0  16.8  21.5  20.2  4.0  5.0   2.0   2.0  ...   \n",
       "19950404   50.8   9.5  10.5  11.4  12.2  11.4  8.0  7.0   7.0   7.0  ...   \n",
       "19950405   59.8   9.8  10.8  13.8  14.3  13.3  8.0  7.0   8.0   8.0  ...   \n",
       "\n",
       "          Vvit6  Vdir9  Vvit9  Vdir12  Vvit12  Vdir15  Vvit15  Vdir18  Vvit18  \\\n",
       "19950401    2.0  290.0    4.0   300.0     4.0   340.0     4.0    20.0     4.0   \n",
       "19950402    2.0  160.0    2.0   180.0     3.0   110.0     1.0   350.0     2.0   \n",
       "19950403    2.0   20.0    2.0   340.0     1.0   170.0     2.0   170.0     3.0   \n",
       "19950404    3.0   10.0    4.0   350.0     3.0   350.0     3.0   350.0     4.0   \n",
       "19950405    2.0  340.0    2.0   280.0     1.0   320.0     3.0   350.0     4.0   \n",
       "\n",
       "              Vx  \n",
       "19950401 -3.4641  \n",
       "19950402  0.0000  \n",
       "19950403 -0.3420  \n",
       "19950404 -0.5209  \n",
       "19950405 -0.9848  \n",
       "\n",
       "[5 rows x 22 columns]"
      ]
     },
     "execution_count": 3,
     "metadata": {},
     "output_type": "execute_result"
    }
   ],
   "source": [
    "# Import des données\n",
    "df_oz = pd.read_csv('Data-20241001/ozone_complet.txt', delimiter=';')\n",
    "df_oz = df_oz.drop(\"maxO3v\", axis=1).dropna()\n",
    "df_oz.head()"
   ]
  },
  {
   "cell_type": "code",
   "execution_count": 17,
   "metadata": {},
   "outputs": [
    {
     "name": "stdout",
     "output_type": "stream",
     "text": [
      "Min Ozone : 33.2, Max Ozone : 173.0\n"
     ]
    }
   ],
   "source": [
    "max_O3 = max(df_oz['maxO3'])\n",
    "min_O3 = min(df_oz['maxO3'])\n",
    "print(f\"Min Ozone : {min_O3}, Max Ozone : {max_O3}\")"
   ]
  },
  {
   "cell_type": "markdown",
   "metadata": {},
   "source": [
    "### Création de la classe from Scratch de SVM Régression"
   ]
  },
  {
   "cell_type": "code",
   "execution_count": 6,
   "metadata": {},
   "outputs": [],
   "source": [
    "# Initialisation de la classe SVM Régression from Scratch\n",
    "class SVR_from_Scratch:\n",
    "    def __init__(self, learning_rate, lambda_param, n_iters, epsilon):\n",
    "        self.lr = learning_rate\n",
    "        self.lambda_param = lambda_param\n",
    "        self.n_iters = n_iters\n",
    "        self.epsilon = epsilon\n",
    "        self.w = None\n",
    "        self.b = None\n",
    "\n",
    "    def fit_fr(self, X, y):\n",
    "        # Nombre d'échantillons et de caractéristiques\n",
    "        n_samples, n_features = X.shape\n",
    "\n",
    "        # Initialise les poids\n",
    "        self.w = np.zeros(n_features)\n",
    "        self.b = 0\n",
    "\n",
    "        for _ in range(self.n_iters):\n",
    "            for idx, x_i in enumerate(X):\n",
    "                # Vérifie si l'échantillon dépasse la marge epsilon\n",
    "                condition = abs(np.dot(x_i, self.w) - self.b - y[idx]) >= self.epsilon\n",
    "                if condition:\n",
    "                    if np.dot(x_i, self.w) - self.b < y[idx]:\n",
    "                        # Mise à jour des poids et biais pour le cas d'erreur positive\n",
    "                        self.w -= self.lr * (2 * self.lambda_param * self.w - x_i)\n",
    "                        self.b -= self.lr * (-1)\n",
    "                    else:\n",
    "                        # Mise à jour des poids et biais pour le cas d'erreur négative\n",
    "                        self.w -= self.lr * (2 * self.lambda_param * self.w + x_i)\n",
    "                        self.b -= self.lr * (1)\n",
    "\n",
    "    def predict_fr(self, X):\n",
    "        return np.dot(X, self.w) + self.b"
   ]
  },
  {
   "cell_type": "markdown",
   "metadata": {},
   "source": [
    "### Test From Scratch avec gridsearch"
   ]
  },
  {
   "cell_type": "code",
   "execution_count": 9,
   "metadata": {},
   "outputs": [
    {
     "name": "stdout",
     "output_type": "stream",
     "text": [
      "[2878.4259372847223, 2440.440912250241, 2440.440912250241, 2930.180975121479, 2506.919160844371, 2506.919160844371, 2414.7763887722704, 2797.254698916846, 2797.254698916846, 2767.163093753968, 2087.347007572, 2087.347007572, 2443.278408757982, 1836.9941918980858, 3107.288540835091, 3047.139509861447, 2986.403402347596, 2698.8543086717636, 2900.203624122251, 2417.7335915652016, 2417.7335915652016, 2452.8032712814525, 2957.0499114770587, 2957.0499114770587, 2930.5931738101335, 2476.8389158325444, 2476.8389158325444, 262.09390544676546, 299.26314655501966, 251.86336947713505, 233.4963547951948, 183.84458901058662, 298.119027950993, 207.2187304586023, 177.6785255951233, 329.8264584385541, 266.8674571024296, 262.91334892157823, 262.91334892157823, 238.8948856793195, 275.1199429915161, 260.95710146308824, 241.08743945850475, 206.62514540193766, 292.7450742182895, 237.32638794821565, 240.66339574611064, 240.66339574611064, 292.2619094801906, 296.0336439424404, 288.1077346036171, 245.96604122982617, 228.19138612028823, 308.2382310787341, 14.944134154522063, 18.514847475794717, 15.760901891956616, 15.282388252602061, 14.85632880991566, 14.580086716438535, 15.387743344884035, 14.900679850002122, 15.729288776872275, 14.826267676375409, 15.880186686199401, 16.521959865745877, 14.833582959801664, 14.396987145445285, 15.654351912903804, 15.399495492881142, 14.804857770709152, 15.266710025361688, 14.58183726601398, 16.76960044770607, 15.213539511419087, 14.974944723876158, 14.583675930776476, 15.25713174745904, 17.249862630724813, 16.295069253987858, 15.165000028059437]\n"
     ]
    }
   ],
   "source": [
    "from sklearn.metrics import mean_absolute_error, mean_squared_error\n",
    "import math\n",
    "# Test From Scratch\n",
    "from sklearn.model_selection import train_test_split\n",
    "\n",
    "# Récupérer les données\n",
    "X = df_oz.drop(columns=['maxO3']).values  # Toutes les colonnes sauf 'maxO3'\n",
    "y = df_oz['maxO3'].values  # Colonne cible 'maxO3'\n",
    "    \n",
    "# Split des jeux de données    \n",
    "X_train, X_test, y_train, y_test = train_test_split(X, y, test_size=0.2, random_state=123)\n",
    "   \n",
    "test_parameters = {\n",
    "    'lr' : [0.01, 0.001, 0.0001],\n",
    "    'lambda_' : [0.01, 0.001, 0.0001],\n",
    "    'iter' : [100, 500, 1000],\n",
    "    'eps' : [0.01, 0.001, 0.0001]\n",
    "}\n",
    "\n",
    "mae = []\n",
    "mse = []\n",
    "rmse = []\n",
    "params = []\n",
    "\n",
    "# Initialiser et entraîner le modèle SVR\n",
    "for lr in test_parameters['lr'] :\n",
    "    for lbd in test_parameters['lambda_'] :\n",
    "        for it in test_parameters['iter'] :\n",
    "            for ep in test_parameters['eps'] :\n",
    "                svr_fr = SVR_from_Scratch(learning_rate=lr, lambda_param=lbd, n_iters=it, epsilon=ep)\n",
    "                # Entraîner le modèle sur l'ensemble des features\n",
    "                svr_fr.fit_fr(X_train, y_train)\n",
    "                # Prédictions sur l'ensemble de test\n",
    "                y_pred_fr = svr_fr.predict_fr(X_test)\n",
    "                # Evaluations\n",
    "                mae_fr = mean_absolute_error(y_test, y_pred_fr)\n",
    "                mse_fr = mean_squared_error(y_test, y_pred_fr)\n",
    "                rmse_fr = math.sqrt(mse_fr)\n",
    "                \n",
    "                mae.append(mae_fr)\n",
    "                mse.append(mse_fr)\n",
    "                rmse.append(rmse_fr)\n",
    "                \n",
    "                params.append([lr, lbd, it, ep])\n",
    "\n",
    "print(mae)"
   ]
  },
  {
   "cell_type": "code",
   "execution_count": 10,
   "metadata": {},
   "outputs": [
    {
     "name": "stdout",
     "output_type": "stream",
     "text": [
      "Best eval - MAE : 14.396987145445285, MSE : 10261597.587743329, RMSE : 3203.3728455712626\n",
      "Learning rate : 0.01, Lambda : 0.01, Iterations : 100, Epsilon : 0.01\n"
     ]
    }
   ],
   "source": [
    "params_id = np.where(min(mae))[0][0]\n",
    "best_params = params[params_id]\n",
    "\n",
    "best_mae = min(mae)\n",
    "best_rmse = rmse[params_id]\n",
    "best_mse = mse[params_id]\n",
    "\n",
    "print(f\"Best eval - MAE : {best_mae}, MSE : {best_mse}, RMSE : {best_rmse}\")\n",
    "print(f\"Learning rate : {best_params[0]}, Lambda : {best_params[1]}, Iterations : {best_params[2]}, Epsilon : {best_params[3]}\")\n",
    "lr = best_params[0]\n",
    "lbd = best_params[1]\n",
    "it = best_params[2]\n",
    "ep = best_params[3]"
   ]
  },
  {
   "cell_type": "markdown",
   "metadata": {},
   "source": [
    "### Test From Scratch"
   ]
  },
  {
   "cell_type": "code",
   "execution_count": 11,
   "metadata": {},
   "outputs": [],
   "source": [
    "# Test From Scratch\n",
    "from sklearn.model_selection import train_test_split\n",
    "\n",
    "# Récupérer les données\n",
    "X = df_oz.drop(columns=['maxO3']).values  # Toutes les colonnes sauf 'maxO3'\n",
    "y = df_oz['maxO3'].values  # Colonne cible 'maxO3'\n",
    "    \n",
    "# Split des jeux de données    \n",
    "X_train, X_test, y_train, y_test = train_test_split(X, y, test_size=0.2, random_state=123)\n",
    "\n",
    "start_time = time.time()\n",
    "   \n",
    "# Initialiser et entraîner le modèle SVR\n",
    "svr_fr = SVR_from_Scratch(learning_rate=0.0001, lambda_param=0.001, n_iters=500, epsilon=0.001)\n",
    "\n",
    "# Entraîner le modèle sur l'ensemble des features\n",
    "svr_fr.fit_fr(X_train, y_train)\n",
    "\n",
    "tot_time_fr = time.time() - start_time\n",
    "\n",
    "# Prédictions sur l'ensemble de test\n",
    "y_pred_fr = svr_fr.predict_fr(X_test)"
   ]
  },
  {
   "cell_type": "markdown",
   "metadata": {},
   "source": [
    "### Test Scikit-Learn"
   ]
  },
  {
   "cell_type": "code",
   "execution_count": 12,
   "metadata": {},
   "outputs": [],
   "source": [
    "# Comparaison avec scikit-learn\n",
    "from sklearn.svm import SVR \n",
    "from sklearn.preprocessing import StandardScaler\n",
    "\n",
    "# Normaliser\n",
    "scaler = StandardScaler()\n",
    "X_train_scaler = scaler.fit_transform(X_train)\n",
    "X_test_scaler = scaler.transform(X_test)\n",
    "\n",
    "start_time = time.time()\n",
    "# create an SVR model with a linear kernel \n",
    "svr_sl = SVR(kernel=\"linear\") \n",
    "\n",
    "# train the model on the data \n",
    "svr_sl.fit(X_train_scaler, y_train)\n",
    "\n",
    "tot_time_sl = time.time() - start_time\n",
    "\n",
    "# make predictions on the data \n",
    "y_pred_sl = svr_sl.predict(X_test_scaler)"
   ]
  },
  {
   "cell_type": "markdown",
   "metadata": {},
   "source": [
    "### Evaluations"
   ]
  },
  {
   "cell_type": "code",
   "execution_count": 16,
   "metadata": {},
   "outputs": [
    {
     "name": "stdout",
     "output_type": "stream",
     "text": [
      "Temps d'execution scikit-learn : 0.0823s \n",
      " - MAE scikit-learn : 13.0513 - MSE scikit-learn : 283.4976 - RMSE scikit-learn : 16.8374 - R² scikit-learn: 0.5039\n",
      "Temps d'execution From Scratch : 5.2088s \n",
      " - MAE from Scratch: 14.3970 - MSE from Scratch: 356.1972 - RMSE from Scratch: 18.8732 - R² from Scratch: 0.3767\n"
     ]
    }
   ],
   "source": [
    "from sklearn.metrics import mean_absolute_error, mean_squared_error, r2_score\n",
    "import math\n",
    "\n",
    "# Calcul de la MAE, MSE, RMSE pour From Scratch et Scikit\n",
    "mae_fr = mean_absolute_error(y_test, y_pred_fr)\n",
    "mse_fr = mean_squared_error(y_test, y_pred_fr)\n",
    "rmse_fr = math.sqrt(mse_fr)\n",
    "r2_fr = r2_score(y_test, y_pred_fr)\n",
    "\n",
    "# Calcul de la MAE, MSE, RMSE pour Scikit\n",
    "mae_sl = mean_absolute_error(y_test, y_pred_sl)\n",
    "mse_sl = mean_squared_error(y_test, y_pred_sl)\n",
    "rmse_sl = math.sqrt(mse_sl)\n",
    "r2_sl = r2_score(y_test, y_pred_sl)\n",
    "\n",
    "# Affichage des résulats performances et temps d'exécution\n",
    "print(f\"Temps d'execution scikit-learn : {tot_time_sl:.4f}s \\n - MAE scikit-learn : {mae_sl:.4f} - MSE scikit-learn : {mse_sl:.4f} - RMSE scikit-learn : {rmse_sl:.4f} - R² scikit-learn: {r2_sl:.4f}\")\n",
    "print(f\"Temps d'execution From Scratch : {tot_time_fr:.4f}s \\n - MAE from Scratch: {mae_fr:.4f} - MSE from Scratch: {mse_fr:.4f} - RMSE from Scratch: {rmse_fr:.4f} - R² from Scratch: {r2_fr:.4f}\")"
   ]
  }
 ],
 "metadata": {
  "kernelspec": {
   "display_name": "Python 3",
   "language": "python",
   "name": "python3"
  },
  "language_info": {
   "codemirror_mode": {
    "name": "ipython",
    "version": 3
   },
   "file_extension": ".py",
   "mimetype": "text/x-python",
   "name": "python",
   "nbconvert_exporter": "python",
   "pygments_lexer": "ipython3",
   "version": "3.11.9"
  }
 },
 "nbformat": 4,
 "nbformat_minor": 2
}
