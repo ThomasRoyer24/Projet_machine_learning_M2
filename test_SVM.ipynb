{
 "cells": [
  {
   "cell_type": "code",
   "execution_count": 11,
   "metadata": {},
   "outputs": [
    {
     "ename": "ImportError",
     "evalue": "cannot import name 'train_test_split' from 'sklearn' (c:\\Users\\peron\\AppData\\Local\\Programs\\Python\\Python311\\Lib\\site-packages\\sklearn\\__init__.py)",
     "output_type": "error",
     "traceback": [
      "\u001b[1;31m---------------------------------------------------------------------------\u001b[0m",
      "\u001b[1;31mImportError\u001b[0m                               Traceback (most recent call last)",
      "Cell \u001b[1;32mIn[11], line 7\u001b[0m\n\u001b[0;32m      5\u001b[0m \u001b[38;5;28;01mfrom\u001b[39;00m \u001b[38;5;21;01mSVM\u001b[39;00m \u001b[38;5;28;01mimport\u001b[39;00m SVM\n\u001b[0;32m      6\u001b[0m \u001b[38;5;28;01mfrom\u001b[39;00m \u001b[38;5;21;01mPreprocess\u001b[39;00m \u001b[38;5;28;01mimport\u001b[39;00m load_and_preprocess_CarSeats\n\u001b[1;32m----> 7\u001b[0m \u001b[38;5;28;01mfrom\u001b[39;00m \u001b[38;5;21;01msklearn\u001b[39;00m \u001b[38;5;28;01mimport\u001b[39;00m train_test_split\n",
      "\u001b[1;31mImportError\u001b[0m: cannot import name 'train_test_split' from 'sklearn' (c:\\Users\\peron\\AppData\\Local\\Programs\\Python\\Python311\\Lib\\site-packages\\sklearn\\__init__.py)"
     ]
    }
   ],
   "source": [
    "import pandas as pd\n",
    "import numpy as np\n",
    "import matplotlib.pyplot as plt\n",
    "\n",
    "from SVM import SVM\n",
    "from Preprocess import load_and_preprocess_CarSeats\n",
    "from sklearn import train_test_split"
   ]
  },
  {
   "cell_type": "code",
   "execution_count": null,
   "metadata": {},
   "outputs": [
    {
     "data": {
      "text/plain": [
       "'for col in data.columns:\\n    # Appliquer une condition pour ne garder que les lignes avec des strings\\n    string_values = data[col].apply(lambda x: type(x) if isinstance(x, int) else None)\\n    \\n    # Ne montrer que les résultats non nuls (donc les types str uniquement)\\n    if string_values.notnull().any():\\n        print(f\"Column: {col}\")\\n        print(string_values.dropna())'"
      ]
     },
     "execution_count": 7,
     "metadata": {},
     "output_type": "execute_result"
    }
   ],
   "source": [
    "data=load_and_preprocess_CarSeats()\n",
    "np_data=data.to_numpy()\n",
    "\"\"\"for col in data.columns:\n",
    "    # Appliquer une condition pour ne garder que les lignes avec des strings\n",
    "    string_values = data[col].apply(lambda x: type(x) if isinstance(x, int) else None)\n",
    "    \n",
    "    # Ne montrer que les résultats non nuls (donc les types str uniquement)\n",
    "    if string_values.notnull().any():\n",
    "        print(f\"Column: {col}\")\n",
    "        print(string_values.dropna())\"\"\"\n"
   ]
  },
  {
   "cell_type": "code",
   "execution_count": null,
   "metadata": {},
   "outputs": [],
   "source": [
    "\"\"\"def train_test_split(data, target):\n",
    "    n = int(len(data)*0.8)\n",
    "    train = data[:n]\n",
    "    test = data[n:]\n",
    "\n",
    "    X_train = train.drop(target, axis=1)\n",
    "    Y_train = train[target].copy()\n",
    "    X_test = test.drop(target,axis=1)\n",
    "    Y_test = test[target].copy()\n",
    "    return X_train, Y_train, X_test, Y_test\"\"\""
   ]
  },
  {
   "cell_type": "code",
   "execution_count": null,
   "metadata": {},
   "outputs": [
    {
     "ename": "AttributeError",
     "evalue": "'numpy.ndarray' object has no attribute 'drop'",
     "output_type": "error",
     "traceback": [
      "\u001b[1;31m---------------------------------------------------------------------------\u001b[0m",
      "\u001b[1;31mAttributeError\u001b[0m                            Traceback (most recent call last)",
      "Cell \u001b[1;32mIn[9], line 1\u001b[0m\n\u001b[1;32m----> 1\u001b[0m X_train, Y_train, X_test, Y_test \u001b[38;5;241m=\u001b[39m \u001b[43mtrain_test_split\u001b[49m\u001b[43m(\u001b[49m\u001b[43mnp_data\u001b[49m\u001b[43m,\u001b[49m\u001b[43m \u001b[49m\u001b[38;5;124;43m\"\u001b[39;49m\u001b[38;5;124;43mHigh\u001b[39;49m\u001b[38;5;124;43m\"\u001b[39;49m\u001b[43m)\u001b[49m\n\u001b[0;32m      2\u001b[0m X_train\u001b[38;5;241m.\u001b[39mhead()\n",
      "Cell \u001b[1;32mIn[8], line 6\u001b[0m, in \u001b[0;36mtrain_test_split\u001b[1;34m(data, target)\u001b[0m\n\u001b[0;32m      3\u001b[0m train \u001b[38;5;241m=\u001b[39m data[:n]\n\u001b[0;32m      4\u001b[0m test \u001b[38;5;241m=\u001b[39m data[n:]\n\u001b[1;32m----> 6\u001b[0m X_train \u001b[38;5;241m=\u001b[39m \u001b[43mtrain\u001b[49m\u001b[38;5;241;43m.\u001b[39;49m\u001b[43mdrop\u001b[49m(target, axis\u001b[38;5;241m=\u001b[39m\u001b[38;5;241m1\u001b[39m)\n\u001b[0;32m      7\u001b[0m Y_train \u001b[38;5;241m=\u001b[39m train[target]\u001b[38;5;241m.\u001b[39mcopy()\n\u001b[0;32m      8\u001b[0m X_test \u001b[38;5;241m=\u001b[39m test\u001b[38;5;241m.\u001b[39mdrop(target,axis\u001b[38;5;241m=\u001b[39m\u001b[38;5;241m1\u001b[39m)\n",
      "\u001b[1;31mAttributeError\u001b[0m: 'numpy.ndarray' object has no attribute 'drop'"
     ]
    }
   ],
   "source": [
    "y=np_data[\"High\"]\n",
    "X_train, X_test, y_train, y_test = train_test_split(X,y, test_size=0.20, random_state=42)\n",
    "X_train.head()"
   ]
  },
  {
   "cell_type": "code",
   "execution_count": null,
   "metadata": {},
   "outputs": [],
   "source": [
    "\n"
   ]
  },
  {
   "cell_type": "code",
   "execution_count": null,
   "metadata": {},
   "outputs": [
    {
     "name": "stdout",
     "output_type": "stream",
     "text": [
      "Column: CompPrice\n",
      "0      <class 'int'>\n",
      "1      <class 'int'>\n",
      "2      <class 'int'>\n",
      "3      <class 'int'>\n",
      "4      <class 'int'>\n",
      "           ...      \n",
      "315    <class 'int'>\n",
      "316    <class 'int'>\n",
      "317    <class 'int'>\n",
      "318    <class 'int'>\n",
      "319    <class 'int'>\n",
      "Name: CompPrice, Length: 320, dtype: object\n",
      "Column: Income\n",
      "0      <class 'int'>\n",
      "1      <class 'int'>\n",
      "2      <class 'int'>\n",
      "3      <class 'int'>\n",
      "4      <class 'int'>\n",
      "           ...      \n",
      "315    <class 'int'>\n",
      "316    <class 'int'>\n",
      "317    <class 'int'>\n",
      "318    <class 'int'>\n",
      "319    <class 'int'>\n",
      "Name: Income, Length: 320, dtype: object\n",
      "Column: Advertising\n",
      "0      <class 'int'>\n",
      "1      <class 'int'>\n",
      "2      <class 'int'>\n",
      "3      <class 'int'>\n",
      "4      <class 'int'>\n",
      "           ...      \n",
      "315    <class 'int'>\n",
      "316    <class 'int'>\n",
      "317    <class 'int'>\n",
      "318    <class 'int'>\n",
      "319    <class 'int'>\n",
      "Name: Advertising, Length: 320, dtype: object\n",
      "Column: Population\n",
      "0      <class 'int'>\n",
      "1      <class 'int'>\n",
      "2      <class 'int'>\n",
      "3      <class 'int'>\n",
      "4      <class 'int'>\n",
      "           ...      \n",
      "315    <class 'int'>\n",
      "316    <class 'int'>\n",
      "317    <class 'int'>\n",
      "318    <class 'int'>\n",
      "319    <class 'int'>\n",
      "Name: Population, Length: 320, dtype: object\n",
      "Column: Price\n",
      "0      <class 'int'>\n",
      "1      <class 'int'>\n",
      "2      <class 'int'>\n",
      "3      <class 'int'>\n",
      "4      <class 'int'>\n",
      "           ...      \n",
      "315    <class 'int'>\n",
      "316    <class 'int'>\n",
      "317    <class 'int'>\n",
      "318    <class 'int'>\n",
      "319    <class 'int'>\n",
      "Name: Price, Length: 320, dtype: object\n",
      "Column: Age\n",
      "0      <class 'int'>\n",
      "1      <class 'int'>\n",
      "2      <class 'int'>\n",
      "3      <class 'int'>\n",
      "4      <class 'int'>\n",
      "           ...      \n",
      "315    <class 'int'>\n",
      "316    <class 'int'>\n",
      "317    <class 'int'>\n",
      "318    <class 'int'>\n",
      "319    <class 'int'>\n",
      "Name: Age, Length: 320, dtype: object\n",
      "Column: Education\n",
      "0      <class 'int'>\n",
      "1      <class 'int'>\n",
      "2      <class 'int'>\n",
      "3      <class 'int'>\n",
      "4      <class 'int'>\n",
      "           ...      \n",
      "315    <class 'int'>\n",
      "316    <class 'int'>\n",
      "317    <class 'int'>\n",
      "318    <class 'int'>\n",
      "319    <class 'int'>\n",
      "Name: Education, Length: 320, dtype: object\n",
      "Column: Urban\n",
      "0      <class 'int'>\n",
      "1      <class 'int'>\n",
      "2      <class 'int'>\n",
      "3      <class 'int'>\n",
      "4      <class 'int'>\n",
      "           ...      \n",
      "315    <class 'int'>\n",
      "316    <class 'int'>\n",
      "317    <class 'int'>\n",
      "318    <class 'int'>\n",
      "319    <class 'int'>\n",
      "Name: Urban, Length: 320, dtype: object\n",
      "Column: US\n",
      "0      <class 'int'>\n",
      "1      <class 'int'>\n",
      "2      <class 'int'>\n",
      "3      <class 'int'>\n",
      "4      <class 'int'>\n",
      "           ...      \n",
      "315    <class 'int'>\n",
      "316    <class 'int'>\n",
      "317    <class 'int'>\n",
      "318    <class 'int'>\n",
      "319    <class 'int'>\n",
      "Name: US, Length: 320, dtype: object\n",
      "Column: ShelveLoc_Bad\n",
      "0      <class 'int'>\n",
      "1      <class 'int'>\n",
      "2      <class 'int'>\n",
      "3      <class 'int'>\n",
      "4      <class 'int'>\n",
      "           ...      \n",
      "315    <class 'int'>\n",
      "316    <class 'int'>\n",
      "317    <class 'int'>\n",
      "318    <class 'int'>\n",
      "319    <class 'int'>\n",
      "Name: ShelveLoc_Bad, Length: 320, dtype: object\n",
      "Column: ShelveLoc_Good\n",
      "0      <class 'int'>\n",
      "1      <class 'int'>\n",
      "2      <class 'int'>\n",
      "3      <class 'int'>\n",
      "4      <class 'int'>\n",
      "           ...      \n",
      "315    <class 'int'>\n",
      "316    <class 'int'>\n",
      "317    <class 'int'>\n",
      "318    <class 'int'>\n",
      "319    <class 'int'>\n",
      "Name: ShelveLoc_Good, Length: 320, dtype: object\n",
      "Column: ShelveLoc_Medium\n",
      "0      <class 'int'>\n",
      "1      <class 'int'>\n",
      "2      <class 'int'>\n",
      "3      <class 'int'>\n",
      "4      <class 'int'>\n",
      "           ...      \n",
      "315    <class 'int'>\n",
      "316    <class 'int'>\n",
      "317    <class 'int'>\n",
      "318    <class 'int'>\n",
      "319    <class 'int'>\n",
      "Name: ShelveLoc_Medium, Length: 320, dtype: object\n",
      "<class 'str'>\n"
     ]
    },
    {
     "ename": "UFuncTypeError",
     "evalue": "ufunc 'multiply' did not contain a loop with signature matching types (dtype('<U9'), dtype('<U32')) -> None",
     "output_type": "error",
     "traceback": [
      "\u001b[1;31m---------------------------------------------------------------------------\u001b[0m",
      "\u001b[1;31mUFuncTypeError\u001b[0m                            Traceback (most recent call last)",
      "Cell \u001b[1;32mIn[5], line 2\u001b[0m\n\u001b[0;32m      1\u001b[0m svm\u001b[38;5;241m=\u001b[39mSVM()\n\u001b[1;32m----> 2\u001b[0m \u001b[43msvm\u001b[49m\u001b[38;5;241;43m.\u001b[39;49m\u001b[43mfit\u001b[49m\u001b[43m(\u001b[49m\u001b[43mX_train\u001b[49m\u001b[43m,\u001b[49m\u001b[43mY_train\u001b[49m\u001b[43m)\u001b[49m\n\u001b[0;32m      4\u001b[0m y_pred\u001b[38;5;241m=\u001b[39msvm\u001b[38;5;241m.\u001b[39mpredict(X_test)\n\u001b[0;32m      5\u001b[0m accuracy\u001b[38;5;241m=\u001b[39msvm\u001b[38;5;241m.\u001b[39maccuracy(y_test,y_pred)\n",
      "File \u001b[1;32mc:\\Users\\peron\\Desktop\\machinelearning\\Projet_machine_learning_M2\\SVM.py:47\u001b[0m, in \u001b[0;36mSVM.fit\u001b[1;34m(self, X, y)\u001b[0m\n\u001b[0;32m     45\u001b[0m \u001b[38;5;28mself\u001b[39m\u001b[38;5;241m.\u001b[39minit_parameters(X)\n\u001b[0;32m     46\u001b[0m \u001b[38;5;28;01mfor\u001b[39;00m iteration \u001b[38;5;129;01min\u001b[39;00m \u001b[38;5;28mrange\u001b[39m(\u001b[38;5;28mself\u001b[39m\u001b[38;5;241m.\u001b[39mn_iterations):\n\u001b[1;32m---> 47\u001b[0m     \u001b[38;5;28;43mself\u001b[39;49m\u001b[38;5;241;43m.\u001b[39;49m\u001b[43mgradient_descent\u001b[49m\u001b[43m(\u001b[49m\u001b[43mX\u001b[49m\u001b[43m,\u001b[49m\u001b[43my\u001b[49m\u001b[43m)\u001b[49m\n",
      "File \u001b[1;32mc:\\Users\\peron\\Desktop\\machinelearning\\Projet_machine_learning_M2\\SVM.py:28\u001b[0m, in \u001b[0;36mSVM.gradient_descent\u001b[1;34m(self, X, y)\u001b[0m\n\u001b[0;32m     26\u001b[0m \u001b[38;5;28;01mfor\u001b[39;00m i, Xi \u001b[38;5;129;01min\u001b[39;00m \u001b[38;5;28menumerate\u001b[39m(X):\n\u001b[0;32m     27\u001b[0m     \u001b[38;5;28mprint\u001b[39m(\u001b[38;5;28mtype\u001b[39m(Xi))\n\u001b[1;32m---> 28\u001b[0m     \u001b[38;5;28;01mif\u001b[39;00m y_[i]\u001b[38;5;241m*\u001b[39m(\u001b[43mnp\u001b[49m\u001b[38;5;241;43m.\u001b[39;49m\u001b[43mdot\u001b[49m\u001b[43m(\u001b[49m\u001b[43mXi\u001b[49m\u001b[43m,\u001b[49m\u001b[38;5;28;43mself\u001b[39;49m\u001b[38;5;241;43m.\u001b[39;49m\u001b[43mw\u001b[49m\u001b[43m)\u001b[49m\u001b[38;5;241m-\u001b[39m\u001b[38;5;28mself\u001b[39m\u001b[38;5;241m.\u001b[39mb) \u001b[38;5;241m>\u001b[39m\u001b[38;5;241m=\u001b[39m \u001b[38;5;241m1\u001b[39m:\n\u001b[0;32m     29\u001b[0m         u_w\u001b[38;5;241m=\u001b[39m\u001b[38;5;241m2\u001b[39m\u001b[38;5;241m*\u001b[39m\u001b[38;5;28mself\u001b[39m\u001b[38;5;241m.\u001b[39mlambda_\u001b[38;5;241m*\u001b[39m\u001b[38;5;28mself\u001b[39m\u001b[38;5;241m.\u001b[39mw\n\u001b[0;32m     30\u001b[0m         u_b\u001b[38;5;241m=\u001b[39m\u001b[38;5;241m0\u001b[39m\n",
      "File \u001b[1;32m<__array_function__ internals>:200\u001b[0m, in \u001b[0;36mdot\u001b[1;34m(*args, **kwargs)\u001b[0m\n",
      "\u001b[1;31mUFuncTypeError\u001b[0m: ufunc 'multiply' did not contain a loop with signature matching types (dtype('<U9'), dtype('<U32')) -> None"
     ]
    }
   ],
   "source": [
    "\n",
    "svm=SVM()\n",
    "svm.fit(X_train,Y_train)\n",
    "\n",
    "y_pred=svm.predict(X_test)\n",
    "accuracy=svm.accuracy(y_test,y_pred)"
   ]
  }
 ],
 "metadata": {
  "kernelspec": {
   "display_name": "Python 3",
   "language": "python",
   "name": "python3"
  },
  "language_info": {
   "codemirror_mode": {
    "name": "ipython",
    "version": 3
   },
   "file_extension": ".py",
   "mimetype": "text/x-python",
   "name": "python",
   "nbconvert_exporter": "python",
   "pygments_lexer": "ipython3",
   "version": "3.11.2"
  }
 },
 "nbformat": 4,
 "nbformat_minor": 2
}
